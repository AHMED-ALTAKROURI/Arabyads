{
 "cells": [
  {
   "cell_type": "code",
   "execution_count": 1,
   "metadata": {
    "collapsed": true
   },
   "outputs": [
    {
     "data": {
      "text/plain": "'\\n# irrelevant features:\\nsid: site id\\naid: mobile application id\\nadomain: mobile application domain\\ndid: mobile device id\\ndip: ip of the originating request\\n\\n\\n\\nsdomain: site domain\\n\\nhour: YYMMDDHH format\\n\\nscat: site category\\n\\nacat: mobile application category\\n\\ndmodel: device mode: iphone, samsung, nokia, etc..\\n\\ndtype: device type: smartphone, tablet, etc..\\n\\ndconn: connection used by the device: 4G, WIFI, etc..\\n\\npos: position where the promotion was displayed on the user’s mobile\\n\\nA-I: non-visible feature names\\n\\n\\n\\n'"
     },
     "execution_count": 1,
     "metadata": {},
     "output_type": "execute_result"
    }
   ],
   "source": [
    "\n",
    "import pandas  as pd\n",
    "\n",
    "\"\"\"\n",
    " 'like', \"label\"\n",
    " 'hour',YYMMDDHH format\n",
    " 'sdomain': \"site domain\"\n",
    " 'scat', \"site category\"\n",
    " 'acat', \"mobile application category\"\n",
    " 'dmodel',\" device mode: iphone, samsung, nokia, etc..\"\n",
    " 'dtype', \"device type: smartphone, tablet, etc..\"\n",
    " 'dconn', \"connection used by the device: 4G, WIFI, etc..\"\n",
    "  'pos' \"position where the promotion was displayed on the user’s mobile\"\n",
    "]\n",
    "\"\"\"\n",
    "\n",
    "\"\"\"\n",
    "# irrelevant features:\n",
    "sid: site id\n",
    "aid: mobile application id\n",
    "adomain: mobile application domain\n",
    "did: mobile device id\n",
    "dip: ip of the originating request\n",
    "\n",
    "\n",
    "\n",
    "sdomain: site domain\n",
    "\n",
    "hour: YYMMDDHH format\n",
    "\n",
    "scat: site category\n",
    "\n",
    "acat: mobile application category\n",
    "\n",
    "dmodel: device mode: iphone, samsung, nokia, etc..\n",
    "\n",
    "dtype: device type: smartphone, tablet, etc..\n",
    "\n",
    "dconn: connection used by the device: 4G, WIFI, etc..\n",
    "\n",
    "pos: position where the promotion was displayed on the user’s mobile\n",
    "\n",
    "A-I: non-visible feature names\n",
    "\n",
    "\n",
    "\n",
    "\"\"\"\n",
    "\n",
    "\n"
   ]
  },
  {
   "cell_type": "code",
   "execution_count": 2,
   "outputs": [],
   "source": [
    "data = pd.read_csv(\"clean_data_num\")"
   ],
   "metadata": {
    "collapsed": false,
    "pycharm": {
     "name": "#%%\n"
    }
   }
  },
  {
   "cell_type": "code",
   "execution_count": 3,
   "outputs": [
    {
     "data": {
      "text/plain": "               like          hour       sdomain          scat          acat  \\\ncount  4.042897e+07  4.042897e+07  4.042897e+07  4.042897e+07  4.042897e+07   \nmean   1.698056e-01  1.912256e+07  7.120096e+06  1.230634e+07  1.935569e+07   \nstd    3.754620e-01  2.966837e+02  6.540446e+06  4.605112e+06  9.503487e+06   \nmin    0.000000e+00  1.912210e+07  1.000000e+00  2.000000e+00  1.000000e+00   \n25%    0.000000e+00  1.912230e+07  3.158420e+05  7.377208e+06  9.561058e+06   \n50%    0.000000e+00  1.912260e+07  6.486150e+06  1.265707e+07  2.616559e+07   \n75%    0.000000e+00  1.912281e+07  1.513174e+07  1.653723e+07  2.616559e+07   \nmax    1.000000e+00  1.912302e+07  1.513174e+07  1.653723e+07  2.616559e+07   \n\n             dmodel         dtype         dconn           pos             A  \\\ncount  4.042897e+07  4.042897e+07  4.042897e+07  4.042897e+07  4.042897e+07   \nmean   4.282617e+05  1.015305e+00  3.313150e-01  2.880146e-01  1.004968e+03   \nstd    6.352877e+05  5.274336e-01  8.547935e-01  5.063820e-01  1.094586e+00   \nmin    1.000000e+00  0.000000e+00  0.000000e+00  0.000000e+00  1.001000e+03   \n25%    2.863200e+04  1.000000e+00  0.000000e+00  0.000000e+00  1.005000e+03   \n50%    1.573620e+05  1.000000e+00  0.000000e+00  0.000000e+00  1.005000e+03   \n75%    4.752640e+05  1.000000e+00  0.000000e+00  1.000000e+00  1.005000e+03   \nmax    2.455470e+06  5.000000e+00  5.000000e+00  7.000000e+00  1.012000e+03   \n\n                  B             C             D             E             F  \\\ncount  4.042897e+07  4.042897e+07  4.042897e+07  4.042897e+07  4.042897e+07   \nmean   1.884181e+04  3.188831e+02  6.010201e+01  2.112601e+03  1.432499e+00   \nstd    4.959457e+03  2.127250e+01  4.729538e+01  6.094124e+02  1.326227e+00   \nmin    3.750000e+02  1.200000e+02  2.000000e+01  1.120000e+02  0.000000e+00   \n25%    1.692000e+04  3.200000e+02  5.000000e+01  1.863000e+03  0.000000e+00   \n50%    2.034600e+04  3.200000e+02  5.000000e+01  2.323000e+03  2.000000e+00   \n75%    2.189400e+04  3.200000e+02  5.000000e+01  2.526000e+03  3.000000e+00   \nmax    2.405200e+04  1.024000e+03  1.024000e+03  2.758000e+03  3.000000e+00   \n\n                  G             H             I  \ncount  4.042897e+07  4.042897e+07  4.042897e+07  \nmean   2.271444e+02  5.321685e+04  8.338229e+01  \nstd    3.510221e+02  4.995682e+04  7.028996e+01  \nmin    3.300000e+01 -1.000000e+00  1.000000e+00  \n25%    3.500000e+01 -1.000000e+00  2.300000e+01  \n50%    3.900000e+01  1.000480e+05  6.100000e+01  \n75%    1.710000e+02  1.000930e+05  1.010000e+02  \nmax    1.959000e+03  1.002480e+05  2.550000e+02  ",
      "text/html": "<div>\n<style scoped>\n    .dataframe tbody tr th:only-of-type {\n        vertical-align: middle;\n    }\n\n    .dataframe tbody tr th {\n        vertical-align: top;\n    }\n\n    .dataframe thead th {\n        text-align: right;\n    }\n</style>\n<table border=\"1\" class=\"dataframe\">\n  <thead>\n    <tr style=\"text-align: right;\">\n      <th></th>\n      <th>like</th>\n      <th>hour</th>\n      <th>sdomain</th>\n      <th>scat</th>\n      <th>acat</th>\n      <th>dmodel</th>\n      <th>dtype</th>\n      <th>dconn</th>\n      <th>pos</th>\n      <th>A</th>\n      <th>B</th>\n      <th>C</th>\n      <th>D</th>\n      <th>E</th>\n      <th>F</th>\n      <th>G</th>\n      <th>H</th>\n      <th>I</th>\n    </tr>\n  </thead>\n  <tbody>\n    <tr>\n      <th>count</th>\n      <td>4.042897e+07</td>\n      <td>4.042897e+07</td>\n      <td>4.042897e+07</td>\n      <td>4.042897e+07</td>\n      <td>4.042897e+07</td>\n      <td>4.042897e+07</td>\n      <td>4.042897e+07</td>\n      <td>4.042897e+07</td>\n      <td>4.042897e+07</td>\n      <td>4.042897e+07</td>\n      <td>4.042897e+07</td>\n      <td>4.042897e+07</td>\n      <td>4.042897e+07</td>\n      <td>4.042897e+07</td>\n      <td>4.042897e+07</td>\n      <td>4.042897e+07</td>\n      <td>4.042897e+07</td>\n      <td>4.042897e+07</td>\n    </tr>\n    <tr>\n      <th>mean</th>\n      <td>1.698056e-01</td>\n      <td>1.912256e+07</td>\n      <td>7.120096e+06</td>\n      <td>1.230634e+07</td>\n      <td>1.935569e+07</td>\n      <td>4.282617e+05</td>\n      <td>1.015305e+00</td>\n      <td>3.313150e-01</td>\n      <td>2.880146e-01</td>\n      <td>1.004968e+03</td>\n      <td>1.884181e+04</td>\n      <td>3.188831e+02</td>\n      <td>6.010201e+01</td>\n      <td>2.112601e+03</td>\n      <td>1.432499e+00</td>\n      <td>2.271444e+02</td>\n      <td>5.321685e+04</td>\n      <td>8.338229e+01</td>\n    </tr>\n    <tr>\n      <th>std</th>\n      <td>3.754620e-01</td>\n      <td>2.966837e+02</td>\n      <td>6.540446e+06</td>\n      <td>4.605112e+06</td>\n      <td>9.503487e+06</td>\n      <td>6.352877e+05</td>\n      <td>5.274336e-01</td>\n      <td>8.547935e-01</td>\n      <td>5.063820e-01</td>\n      <td>1.094586e+00</td>\n      <td>4.959457e+03</td>\n      <td>2.127250e+01</td>\n      <td>4.729538e+01</td>\n      <td>6.094124e+02</td>\n      <td>1.326227e+00</td>\n      <td>3.510221e+02</td>\n      <td>4.995682e+04</td>\n      <td>7.028996e+01</td>\n    </tr>\n    <tr>\n      <th>min</th>\n      <td>0.000000e+00</td>\n      <td>1.912210e+07</td>\n      <td>1.000000e+00</td>\n      <td>2.000000e+00</td>\n      <td>1.000000e+00</td>\n      <td>1.000000e+00</td>\n      <td>0.000000e+00</td>\n      <td>0.000000e+00</td>\n      <td>0.000000e+00</td>\n      <td>1.001000e+03</td>\n      <td>3.750000e+02</td>\n      <td>1.200000e+02</td>\n      <td>2.000000e+01</td>\n      <td>1.120000e+02</td>\n      <td>0.000000e+00</td>\n      <td>3.300000e+01</td>\n      <td>-1.000000e+00</td>\n      <td>1.000000e+00</td>\n    </tr>\n    <tr>\n      <th>25%</th>\n      <td>0.000000e+00</td>\n      <td>1.912230e+07</td>\n      <td>3.158420e+05</td>\n      <td>7.377208e+06</td>\n      <td>9.561058e+06</td>\n      <td>2.863200e+04</td>\n      <td>1.000000e+00</td>\n      <td>0.000000e+00</td>\n      <td>0.000000e+00</td>\n      <td>1.005000e+03</td>\n      <td>1.692000e+04</td>\n      <td>3.200000e+02</td>\n      <td>5.000000e+01</td>\n      <td>1.863000e+03</td>\n      <td>0.000000e+00</td>\n      <td>3.500000e+01</td>\n      <td>-1.000000e+00</td>\n      <td>2.300000e+01</td>\n    </tr>\n    <tr>\n      <th>50%</th>\n      <td>0.000000e+00</td>\n      <td>1.912260e+07</td>\n      <td>6.486150e+06</td>\n      <td>1.265707e+07</td>\n      <td>2.616559e+07</td>\n      <td>1.573620e+05</td>\n      <td>1.000000e+00</td>\n      <td>0.000000e+00</td>\n      <td>0.000000e+00</td>\n      <td>1.005000e+03</td>\n      <td>2.034600e+04</td>\n      <td>3.200000e+02</td>\n      <td>5.000000e+01</td>\n      <td>2.323000e+03</td>\n      <td>2.000000e+00</td>\n      <td>3.900000e+01</td>\n      <td>1.000480e+05</td>\n      <td>6.100000e+01</td>\n    </tr>\n    <tr>\n      <th>75%</th>\n      <td>0.000000e+00</td>\n      <td>1.912281e+07</td>\n      <td>1.513174e+07</td>\n      <td>1.653723e+07</td>\n      <td>2.616559e+07</td>\n      <td>4.752640e+05</td>\n      <td>1.000000e+00</td>\n      <td>0.000000e+00</td>\n      <td>1.000000e+00</td>\n      <td>1.005000e+03</td>\n      <td>2.189400e+04</td>\n      <td>3.200000e+02</td>\n      <td>5.000000e+01</td>\n      <td>2.526000e+03</td>\n      <td>3.000000e+00</td>\n      <td>1.710000e+02</td>\n      <td>1.000930e+05</td>\n      <td>1.010000e+02</td>\n    </tr>\n    <tr>\n      <th>max</th>\n      <td>1.000000e+00</td>\n      <td>1.912302e+07</td>\n      <td>1.513174e+07</td>\n      <td>1.653723e+07</td>\n      <td>2.616559e+07</td>\n      <td>2.455470e+06</td>\n      <td>5.000000e+00</td>\n      <td>5.000000e+00</td>\n      <td>7.000000e+00</td>\n      <td>1.012000e+03</td>\n      <td>2.405200e+04</td>\n      <td>1.024000e+03</td>\n      <td>1.024000e+03</td>\n      <td>2.758000e+03</td>\n      <td>3.000000e+00</td>\n      <td>1.959000e+03</td>\n      <td>1.002480e+05</td>\n      <td>2.550000e+02</td>\n    </tr>\n  </tbody>\n</table>\n</div>"
     },
     "execution_count": 3,
     "metadata": {},
     "output_type": "execute_result"
    }
   ],
   "source": [
    "data.describe()\n"
   ],
   "metadata": {
    "collapsed": false,
    "pycharm": {
     "name": "#%%\n"
    }
   }
  },
  {
   "cell_type": "code",
   "execution_count": 4,
   "outputs": [],
   "source": [
    "columns = data.columns\n"
   ],
   "metadata": {
    "collapsed": false,
    "pycharm": {
     "name": "#%%\n"
    }
   }
  },
  {
   "cell_type": "code",
   "execution_count": 5,
   "outputs": [
    {
     "data": {
      "text/plain": "Index(['like', 'hour', 'sdomain', 'scat', 'acat', 'dmodel', 'dtype', 'dconn',\n       'pos', 'A', 'B', 'C', 'D', 'E', 'F', 'G', 'H', 'I'],\n      dtype='object')"
     },
     "execution_count": 5,
     "metadata": {},
     "output_type": "execute_result"
    }
   ],
   "source": [
    "# now we have all our numerical columns encoded:\n",
    "\n",
    "num_columns = data._get_numeric_data().columns\n",
    "num_columns"
   ],
   "metadata": {
    "collapsed": false,
    "pycharm": {
     "name": "#%%\n"
    }
   }
  },
  {
   "cell_type": "code",
   "execution_count": 6,
   "outputs": [
    {
     "data": {
      "text/plain": "   like      hour  sdomain     scat      acat   dmodel  dtype  dconn  pos  \\\n0     0  19122100  6486150  7377208  26165592    23172      1      2    0   \n1     0  19122100  6486150  7377208  26165592   447450      1      0    0   \n2     0  19122100  6486150  7377208  26165592  2455470      1      0    0   \n3     0  19122100  6486150  7377208  26165592   159567      1      0    0   \n4     0  19122100    11927    17106  26165592   344574      1      0    1   \n\n      A      B    C   D     E  F   G       H    I  \n0  1005  15706  320  50  1722  0  35      -1   79  \n1  1005  15704  320  50  1722  0  35  100084   79  \n2  1005  15704  320  50  1722  0  35  100084   79  \n3  1005  15706  320  50  1722  0  35  100084   79  \n4  1005  18993  320  50  2161  0  35      -1  157  ",
      "text/html": "<div>\n<style scoped>\n    .dataframe tbody tr th:only-of-type {\n        vertical-align: middle;\n    }\n\n    .dataframe tbody tr th {\n        vertical-align: top;\n    }\n\n    .dataframe thead th {\n        text-align: right;\n    }\n</style>\n<table border=\"1\" class=\"dataframe\">\n  <thead>\n    <tr style=\"text-align: right;\">\n      <th></th>\n      <th>like</th>\n      <th>hour</th>\n      <th>sdomain</th>\n      <th>scat</th>\n      <th>acat</th>\n      <th>dmodel</th>\n      <th>dtype</th>\n      <th>dconn</th>\n      <th>pos</th>\n      <th>A</th>\n      <th>B</th>\n      <th>C</th>\n      <th>D</th>\n      <th>E</th>\n      <th>F</th>\n      <th>G</th>\n      <th>H</th>\n      <th>I</th>\n    </tr>\n  </thead>\n  <tbody>\n    <tr>\n      <th>0</th>\n      <td>0</td>\n      <td>19122100</td>\n      <td>6486150</td>\n      <td>7377208</td>\n      <td>26165592</td>\n      <td>23172</td>\n      <td>1</td>\n      <td>2</td>\n      <td>0</td>\n      <td>1005</td>\n      <td>15706</td>\n      <td>320</td>\n      <td>50</td>\n      <td>1722</td>\n      <td>0</td>\n      <td>35</td>\n      <td>-1</td>\n      <td>79</td>\n    </tr>\n    <tr>\n      <th>1</th>\n      <td>0</td>\n      <td>19122100</td>\n      <td>6486150</td>\n      <td>7377208</td>\n      <td>26165592</td>\n      <td>447450</td>\n      <td>1</td>\n      <td>0</td>\n      <td>0</td>\n      <td>1005</td>\n      <td>15704</td>\n      <td>320</td>\n      <td>50</td>\n      <td>1722</td>\n      <td>0</td>\n      <td>35</td>\n      <td>100084</td>\n      <td>79</td>\n    </tr>\n    <tr>\n      <th>2</th>\n      <td>0</td>\n      <td>19122100</td>\n      <td>6486150</td>\n      <td>7377208</td>\n      <td>26165592</td>\n      <td>2455470</td>\n      <td>1</td>\n      <td>0</td>\n      <td>0</td>\n      <td>1005</td>\n      <td>15704</td>\n      <td>320</td>\n      <td>50</td>\n      <td>1722</td>\n      <td>0</td>\n      <td>35</td>\n      <td>100084</td>\n      <td>79</td>\n    </tr>\n    <tr>\n      <th>3</th>\n      <td>0</td>\n      <td>19122100</td>\n      <td>6486150</td>\n      <td>7377208</td>\n      <td>26165592</td>\n      <td>159567</td>\n      <td>1</td>\n      <td>0</td>\n      <td>0</td>\n      <td>1005</td>\n      <td>15706</td>\n      <td>320</td>\n      <td>50</td>\n      <td>1722</td>\n      <td>0</td>\n      <td>35</td>\n      <td>100084</td>\n      <td>79</td>\n    </tr>\n    <tr>\n      <th>4</th>\n      <td>0</td>\n      <td>19122100</td>\n      <td>11927</td>\n      <td>17106</td>\n      <td>26165592</td>\n      <td>344574</td>\n      <td>1</td>\n      <td>0</td>\n      <td>1</td>\n      <td>1005</td>\n      <td>18993</td>\n      <td>320</td>\n      <td>50</td>\n      <td>2161</td>\n      <td>0</td>\n      <td>35</td>\n      <td>-1</td>\n      <td>157</td>\n    </tr>\n  </tbody>\n</table>\n</div>"
     },
     "execution_count": 6,
     "metadata": {},
     "output_type": "execute_result"
    }
   ],
   "source": [
    "\n",
    "data.head()\n",
    "\n",
    "\n",
    "\n",
    "\n"
   ],
   "metadata": {
    "collapsed": false,
    "pycharm": {
     "name": "#%%\n"
    }
   }
  },
  {
   "cell_type": "code",
   "execution_count": 7,
   "outputs": [],
   "source": [
    "label_0 = data.loc[data['like'] == 0]\n",
    "\n",
    "label_1 = data.loc[data['like'] == 1]\n",
    "\n"
   ],
   "metadata": {
    "collapsed": false,
    "pycharm": {
     "name": "#%%\n"
    }
   }
  },
  {
   "cell_type": "code",
   "execution_count": 8,
   "outputs": [],
   "source": [
    "del data"
   ],
   "metadata": {
    "collapsed": false,
    "pycharm": {
     "name": "#%%\n"
    }
   }
  },
  {
   "cell_type": "code",
   "execution_count": 9,
   "outputs": [
    {
     "data": {
      "text/plain": "   like      hour  sdomain     scat      acat   dmodel  dtype  dconn  pos  \\\n0     0  19122100  6486150  7377208  26165592    23172      1      2    0   \n1     0  19122100  6486150  7377208  26165592   447450      1      0    0   \n2     0  19122100  6486150  7377208  26165592  2455470      1      0    0   \n3     0  19122100  6486150  7377208  26165592   159567      1      0    0   \n4     0  19122100    11927    17106  26165592   344574      1      0    1   \n\n      A      B    C   D     E  F   G       H    I  \n0  1005  15706  320  50  1722  0  35      -1   79  \n1  1005  15704  320  50  1722  0  35  100084   79  \n2  1005  15704  320  50  1722  0  35  100084   79  \n3  1005  15706  320  50  1722  0  35  100084   79  \n4  1005  18993  320  50  2161  0  35      -1  157  ",
      "text/html": "<div>\n<style scoped>\n    .dataframe tbody tr th:only-of-type {\n        vertical-align: middle;\n    }\n\n    .dataframe tbody tr th {\n        vertical-align: top;\n    }\n\n    .dataframe thead th {\n        text-align: right;\n    }\n</style>\n<table border=\"1\" class=\"dataframe\">\n  <thead>\n    <tr style=\"text-align: right;\">\n      <th></th>\n      <th>like</th>\n      <th>hour</th>\n      <th>sdomain</th>\n      <th>scat</th>\n      <th>acat</th>\n      <th>dmodel</th>\n      <th>dtype</th>\n      <th>dconn</th>\n      <th>pos</th>\n      <th>A</th>\n      <th>B</th>\n      <th>C</th>\n      <th>D</th>\n      <th>E</th>\n      <th>F</th>\n      <th>G</th>\n      <th>H</th>\n      <th>I</th>\n    </tr>\n  </thead>\n  <tbody>\n    <tr>\n      <th>0</th>\n      <td>0</td>\n      <td>19122100</td>\n      <td>6486150</td>\n      <td>7377208</td>\n      <td>26165592</td>\n      <td>23172</td>\n      <td>1</td>\n      <td>2</td>\n      <td>0</td>\n      <td>1005</td>\n      <td>15706</td>\n      <td>320</td>\n      <td>50</td>\n      <td>1722</td>\n      <td>0</td>\n      <td>35</td>\n      <td>-1</td>\n      <td>79</td>\n    </tr>\n    <tr>\n      <th>1</th>\n      <td>0</td>\n      <td>19122100</td>\n      <td>6486150</td>\n      <td>7377208</td>\n      <td>26165592</td>\n      <td>447450</td>\n      <td>1</td>\n      <td>0</td>\n      <td>0</td>\n      <td>1005</td>\n      <td>15704</td>\n      <td>320</td>\n      <td>50</td>\n      <td>1722</td>\n      <td>0</td>\n      <td>35</td>\n      <td>100084</td>\n      <td>79</td>\n    </tr>\n    <tr>\n      <th>2</th>\n      <td>0</td>\n      <td>19122100</td>\n      <td>6486150</td>\n      <td>7377208</td>\n      <td>26165592</td>\n      <td>2455470</td>\n      <td>1</td>\n      <td>0</td>\n      <td>0</td>\n      <td>1005</td>\n      <td>15704</td>\n      <td>320</td>\n      <td>50</td>\n      <td>1722</td>\n      <td>0</td>\n      <td>35</td>\n      <td>100084</td>\n      <td>79</td>\n    </tr>\n    <tr>\n      <th>3</th>\n      <td>0</td>\n      <td>19122100</td>\n      <td>6486150</td>\n      <td>7377208</td>\n      <td>26165592</td>\n      <td>159567</td>\n      <td>1</td>\n      <td>0</td>\n      <td>0</td>\n      <td>1005</td>\n      <td>15706</td>\n      <td>320</td>\n      <td>50</td>\n      <td>1722</td>\n      <td>0</td>\n      <td>35</td>\n      <td>100084</td>\n      <td>79</td>\n    </tr>\n    <tr>\n      <th>4</th>\n      <td>0</td>\n      <td>19122100</td>\n      <td>11927</td>\n      <td>17106</td>\n      <td>26165592</td>\n      <td>344574</td>\n      <td>1</td>\n      <td>0</td>\n      <td>1</td>\n      <td>1005</td>\n      <td>18993</td>\n      <td>320</td>\n      <td>50</td>\n      <td>2161</td>\n      <td>0</td>\n      <td>35</td>\n      <td>-1</td>\n      <td>157</td>\n    </tr>\n  </tbody>\n</table>\n</div>"
     },
     "execution_count": 9,
     "metadata": {},
     "output_type": "execute_result"
    }
   ],
   "source": [
    "label_0.head()"
   ],
   "metadata": {
    "collapsed": false,
    "pycharm": {
     "name": "#%%\n"
    }
   }
  },
  {
   "cell_type": "code",
   "execution_count": 10,
   "outputs": [
    {
     "data": {
      "text/plain": "    like      hour   sdomain      scat      acat  dmodel  dtype  dconn  pos  \\\n8      1  19122100   6486150   7377208  26165592  315606      1      2    0   \n23     1  19122100   6486150   7377208  26165592   60908      1      0    0   \n27     1  19122100  15131739  16537234   9561058    2901      1      0    0   \n32     1  19122100   6486150   7377208  26165592    9929      1      0    0   \n37     1  19122100  15131739  16537234   1141673   56410      1      0    0   \n\n       A      B    C   D     E  F    G       H    I  \n8   1005  15707  320  50  1722  0   35      -1   79  \n23  1005  15701  320  50  1722  0   35      -1   79  \n27  1005  21611  320  50  2480  3  297  100111   61  \n32  1005  15708  320  50  1722  0   35  100083   79  \n37  1005  18993  320  50  2161  0   35  100034  157  ",
      "text/html": "<div>\n<style scoped>\n    .dataframe tbody tr th:only-of-type {\n        vertical-align: middle;\n    }\n\n    .dataframe tbody tr th {\n        vertical-align: top;\n    }\n\n    .dataframe thead th {\n        text-align: right;\n    }\n</style>\n<table border=\"1\" class=\"dataframe\">\n  <thead>\n    <tr style=\"text-align: right;\">\n      <th></th>\n      <th>like</th>\n      <th>hour</th>\n      <th>sdomain</th>\n      <th>scat</th>\n      <th>acat</th>\n      <th>dmodel</th>\n      <th>dtype</th>\n      <th>dconn</th>\n      <th>pos</th>\n      <th>A</th>\n      <th>B</th>\n      <th>C</th>\n      <th>D</th>\n      <th>E</th>\n      <th>F</th>\n      <th>G</th>\n      <th>H</th>\n      <th>I</th>\n    </tr>\n  </thead>\n  <tbody>\n    <tr>\n      <th>8</th>\n      <td>1</td>\n      <td>19122100</td>\n      <td>6486150</td>\n      <td>7377208</td>\n      <td>26165592</td>\n      <td>315606</td>\n      <td>1</td>\n      <td>2</td>\n      <td>0</td>\n      <td>1005</td>\n      <td>15707</td>\n      <td>320</td>\n      <td>50</td>\n      <td>1722</td>\n      <td>0</td>\n      <td>35</td>\n      <td>-1</td>\n      <td>79</td>\n    </tr>\n    <tr>\n      <th>23</th>\n      <td>1</td>\n      <td>19122100</td>\n      <td>6486150</td>\n      <td>7377208</td>\n      <td>26165592</td>\n      <td>60908</td>\n      <td>1</td>\n      <td>0</td>\n      <td>0</td>\n      <td>1005</td>\n      <td>15701</td>\n      <td>320</td>\n      <td>50</td>\n      <td>1722</td>\n      <td>0</td>\n      <td>35</td>\n      <td>-1</td>\n      <td>79</td>\n    </tr>\n    <tr>\n      <th>27</th>\n      <td>1</td>\n      <td>19122100</td>\n      <td>15131739</td>\n      <td>16537234</td>\n      <td>9561058</td>\n      <td>2901</td>\n      <td>1</td>\n      <td>0</td>\n      <td>0</td>\n      <td>1005</td>\n      <td>21611</td>\n      <td>320</td>\n      <td>50</td>\n      <td>2480</td>\n      <td>3</td>\n      <td>297</td>\n      <td>100111</td>\n      <td>61</td>\n    </tr>\n    <tr>\n      <th>32</th>\n      <td>1</td>\n      <td>19122100</td>\n      <td>6486150</td>\n      <td>7377208</td>\n      <td>26165592</td>\n      <td>9929</td>\n      <td>1</td>\n      <td>0</td>\n      <td>0</td>\n      <td>1005</td>\n      <td>15708</td>\n      <td>320</td>\n      <td>50</td>\n      <td>1722</td>\n      <td>0</td>\n      <td>35</td>\n      <td>100083</td>\n      <td>79</td>\n    </tr>\n    <tr>\n      <th>37</th>\n      <td>1</td>\n      <td>19122100</td>\n      <td>15131739</td>\n      <td>16537234</td>\n      <td>1141673</td>\n      <td>56410</td>\n      <td>1</td>\n      <td>0</td>\n      <td>0</td>\n      <td>1005</td>\n      <td>18993</td>\n      <td>320</td>\n      <td>50</td>\n      <td>2161</td>\n      <td>0</td>\n      <td>35</td>\n      <td>100034</td>\n      <td>157</td>\n    </tr>\n  </tbody>\n</table>\n</div>"
     },
     "execution_count": 10,
     "metadata": {},
     "output_type": "execute_result"
    }
   ],
   "source": [
    "\n",
    "label_1.head()"
   ],
   "metadata": {
    "collapsed": false,
    "pycharm": {
     "name": "#%%\n"
    }
   }
  },
  {
   "cell_type": "code",
   "execution_count": 11,
   "outputs": [],
   "source": [
    "sampled_label_0 = label_0.sample(n= 6865066)\n"
   ],
   "metadata": {
    "collapsed": false,
    "pycharm": {
     "name": "#%%\n"
    }
   }
  },
  {
   "cell_type": "code",
   "execution_count": 12,
   "outputs": [
    {
     "data": {
      "text/plain": "          like      hour   sdomain      scat      acat   dmodel  dtype  dconn  \\\n35801254     0  19122919  15131739  16537234   9561058     1765      1      2   \n15121020     0  19122412     68122  12657073  26165592   188755      1      0   \n16989022     0  19122504    315842  12657073  26165592     2174      1      0   \n18540143     0  19122514   6486150   7377208  26165592    19208      1      0   \n8361874      0  19122216   6486150   7377208  26165592  2455470      1      0   \n\n          pos     A      B    C   D     E  F   G       H    I  \n35801254    0  1005  23722  320  50  2716  3  43      -1   23  \n15121020    1  1005  19984  320  50  2278  2  35      -1   95  \n16989022    0  1005  17877  320  50  2036  3  47      -1  156  \n18540143    0  1005  15699  320  50  1722  0  35  100084   79  \n8361874     0  1005  15708  320  50  1722  0  35  100083   79  ",
      "text/html": "<div>\n<style scoped>\n    .dataframe tbody tr th:only-of-type {\n        vertical-align: middle;\n    }\n\n    .dataframe tbody tr th {\n        vertical-align: top;\n    }\n\n    .dataframe thead th {\n        text-align: right;\n    }\n</style>\n<table border=\"1\" class=\"dataframe\">\n  <thead>\n    <tr style=\"text-align: right;\">\n      <th></th>\n      <th>like</th>\n      <th>hour</th>\n      <th>sdomain</th>\n      <th>scat</th>\n      <th>acat</th>\n      <th>dmodel</th>\n      <th>dtype</th>\n      <th>dconn</th>\n      <th>pos</th>\n      <th>A</th>\n      <th>B</th>\n      <th>C</th>\n      <th>D</th>\n      <th>E</th>\n      <th>F</th>\n      <th>G</th>\n      <th>H</th>\n      <th>I</th>\n    </tr>\n  </thead>\n  <tbody>\n    <tr>\n      <th>35801254</th>\n      <td>0</td>\n      <td>19122919</td>\n      <td>15131739</td>\n      <td>16537234</td>\n      <td>9561058</td>\n      <td>1765</td>\n      <td>1</td>\n      <td>2</td>\n      <td>0</td>\n      <td>1005</td>\n      <td>23722</td>\n      <td>320</td>\n      <td>50</td>\n      <td>2716</td>\n      <td>3</td>\n      <td>43</td>\n      <td>-1</td>\n      <td>23</td>\n    </tr>\n    <tr>\n      <th>15121020</th>\n      <td>0</td>\n      <td>19122412</td>\n      <td>68122</td>\n      <td>12657073</td>\n      <td>26165592</td>\n      <td>188755</td>\n      <td>1</td>\n      <td>0</td>\n      <td>1</td>\n      <td>1005</td>\n      <td>19984</td>\n      <td>320</td>\n      <td>50</td>\n      <td>2278</td>\n      <td>2</td>\n      <td>35</td>\n      <td>-1</td>\n      <td>95</td>\n    </tr>\n    <tr>\n      <th>16989022</th>\n      <td>0</td>\n      <td>19122504</td>\n      <td>315842</td>\n      <td>12657073</td>\n      <td>26165592</td>\n      <td>2174</td>\n      <td>1</td>\n      <td>0</td>\n      <td>0</td>\n      <td>1005</td>\n      <td>17877</td>\n      <td>320</td>\n      <td>50</td>\n      <td>2036</td>\n      <td>3</td>\n      <td>47</td>\n      <td>-1</td>\n      <td>156</td>\n    </tr>\n    <tr>\n      <th>18540143</th>\n      <td>0</td>\n      <td>19122514</td>\n      <td>6486150</td>\n      <td>7377208</td>\n      <td>26165592</td>\n      <td>19208</td>\n      <td>1</td>\n      <td>0</td>\n      <td>0</td>\n      <td>1005</td>\n      <td>15699</td>\n      <td>320</td>\n      <td>50</td>\n      <td>1722</td>\n      <td>0</td>\n      <td>35</td>\n      <td>100084</td>\n      <td>79</td>\n    </tr>\n    <tr>\n      <th>8361874</th>\n      <td>0</td>\n      <td>19122216</td>\n      <td>6486150</td>\n      <td>7377208</td>\n      <td>26165592</td>\n      <td>2455470</td>\n      <td>1</td>\n      <td>0</td>\n      <td>0</td>\n      <td>1005</td>\n      <td>15708</td>\n      <td>320</td>\n      <td>50</td>\n      <td>1722</td>\n      <td>0</td>\n      <td>35</td>\n      <td>100083</td>\n      <td>79</td>\n    </tr>\n  </tbody>\n</table>\n</div>"
     },
     "execution_count": 12,
     "metadata": {},
     "output_type": "execute_result"
    }
   ],
   "source": [
    "sampled_label_0.head()"
   ],
   "metadata": {
    "collapsed": false,
    "pycharm": {
     "name": "#%%\n"
    }
   }
  },
  {
   "cell_type": "code",
   "execution_count": 13,
   "outputs": [],
   "source": [
    "del label_0"
   ],
   "metadata": {
    "collapsed": false,
    "pycharm": {
     "name": "#%%\n"
    }
   }
  },
  {
   "cell_type": "code",
   "execution_count": 14,
   "outputs": [],
   "source": [
    "final_balanced = pd.concat([label_1, sampled_label_0], ignore_index=True)"
   ],
   "metadata": {
    "collapsed": false,
    "pycharm": {
     "name": "#%%\n"
    }
   }
  },
  {
   "cell_type": "code",
   "execution_count": 15,
   "outputs": [
    {
     "data": {
      "text/plain": "   like      hour   sdomain      scat      acat  dmodel  dtype  dconn  pos  \\\n0     1  19122100   6486150   7377208  26165592  315606      1      2    0   \n1     1  19122100   6486150   7377208  26165592   60908      1      0    0   \n2     1  19122100  15131739  16537234   9561058    2901      1      0    0   \n3     1  19122100   6486150   7377208  26165592    9929      1      0    0   \n4     1  19122100  15131739  16537234   1141673   56410      1      0    0   \n\n      A      B    C   D     E  F    G       H    I  \n0  1005  15707  320  50  1722  0   35      -1   79  \n1  1005  15701  320  50  1722  0   35      -1   79  \n2  1005  21611  320  50  2480  3  297  100111   61  \n3  1005  15708  320  50  1722  0   35  100083   79  \n4  1005  18993  320  50  2161  0   35  100034  157  ",
      "text/html": "<div>\n<style scoped>\n    .dataframe tbody tr th:only-of-type {\n        vertical-align: middle;\n    }\n\n    .dataframe tbody tr th {\n        vertical-align: top;\n    }\n\n    .dataframe thead th {\n        text-align: right;\n    }\n</style>\n<table border=\"1\" class=\"dataframe\">\n  <thead>\n    <tr style=\"text-align: right;\">\n      <th></th>\n      <th>like</th>\n      <th>hour</th>\n      <th>sdomain</th>\n      <th>scat</th>\n      <th>acat</th>\n      <th>dmodel</th>\n      <th>dtype</th>\n      <th>dconn</th>\n      <th>pos</th>\n      <th>A</th>\n      <th>B</th>\n      <th>C</th>\n      <th>D</th>\n      <th>E</th>\n      <th>F</th>\n      <th>G</th>\n      <th>H</th>\n      <th>I</th>\n    </tr>\n  </thead>\n  <tbody>\n    <tr>\n      <th>0</th>\n      <td>1</td>\n      <td>19122100</td>\n      <td>6486150</td>\n      <td>7377208</td>\n      <td>26165592</td>\n      <td>315606</td>\n      <td>1</td>\n      <td>2</td>\n      <td>0</td>\n      <td>1005</td>\n      <td>15707</td>\n      <td>320</td>\n      <td>50</td>\n      <td>1722</td>\n      <td>0</td>\n      <td>35</td>\n      <td>-1</td>\n      <td>79</td>\n    </tr>\n    <tr>\n      <th>1</th>\n      <td>1</td>\n      <td>19122100</td>\n      <td>6486150</td>\n      <td>7377208</td>\n      <td>26165592</td>\n      <td>60908</td>\n      <td>1</td>\n      <td>0</td>\n      <td>0</td>\n      <td>1005</td>\n      <td>15701</td>\n      <td>320</td>\n      <td>50</td>\n      <td>1722</td>\n      <td>0</td>\n      <td>35</td>\n      <td>-1</td>\n      <td>79</td>\n    </tr>\n    <tr>\n      <th>2</th>\n      <td>1</td>\n      <td>19122100</td>\n      <td>15131739</td>\n      <td>16537234</td>\n      <td>9561058</td>\n      <td>2901</td>\n      <td>1</td>\n      <td>0</td>\n      <td>0</td>\n      <td>1005</td>\n      <td>21611</td>\n      <td>320</td>\n      <td>50</td>\n      <td>2480</td>\n      <td>3</td>\n      <td>297</td>\n      <td>100111</td>\n      <td>61</td>\n    </tr>\n    <tr>\n      <th>3</th>\n      <td>1</td>\n      <td>19122100</td>\n      <td>6486150</td>\n      <td>7377208</td>\n      <td>26165592</td>\n      <td>9929</td>\n      <td>1</td>\n      <td>0</td>\n      <td>0</td>\n      <td>1005</td>\n      <td>15708</td>\n      <td>320</td>\n      <td>50</td>\n      <td>1722</td>\n      <td>0</td>\n      <td>35</td>\n      <td>100083</td>\n      <td>79</td>\n    </tr>\n    <tr>\n      <th>4</th>\n      <td>1</td>\n      <td>19122100</td>\n      <td>15131739</td>\n      <td>16537234</td>\n      <td>1141673</td>\n      <td>56410</td>\n      <td>1</td>\n      <td>0</td>\n      <td>0</td>\n      <td>1005</td>\n      <td>18993</td>\n      <td>320</td>\n      <td>50</td>\n      <td>2161</td>\n      <td>0</td>\n      <td>35</td>\n      <td>100034</td>\n      <td>157</td>\n    </tr>\n  </tbody>\n</table>\n</div>"
     },
     "execution_count": 15,
     "metadata": {},
     "output_type": "execute_result"
    }
   ],
   "source": [
    "final_balanced.head()"
   ],
   "metadata": {
    "collapsed": false,
    "pycharm": {
     "name": "#%%\n"
    }
   }
  },
  {
   "cell_type": "code",
   "execution_count": 16,
   "outputs": [],
   "source": [
    "final_balanced.to_csv(\"final_balanced_data.csv\",index=False)"
   ],
   "metadata": {
    "collapsed": false,
    "pycharm": {
     "name": "#%%\n"
    }
   }
  }
 ],
 "metadata": {
  "kernelspec": {
   "display_name": "Python 3",
   "language": "python",
   "name": "python3"
  },
  "language_info": {
   "codemirror_mode": {
    "name": "ipython",
    "version": 2
   },
   "file_extension": ".py",
   "mimetype": "text/x-python",
   "name": "python",
   "nbconvert_exporter": "python",
   "pygments_lexer": "ipython2",
   "version": "2.7.6"
  }
 },
 "nbformat": 4,
 "nbformat_minor": 0
}